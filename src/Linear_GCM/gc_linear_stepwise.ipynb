{
 "cells": [
  {
   "cell_type": "code",
   "execution_count": 1,
   "id": "initial_id",
   "metadata": {
    "ExecuteTime": {
     "end_time": "2023-12-03T16:04:46.379683Z",
     "start_time": "2023-12-03T16:04:46.315619900Z"
    }
   },
   "outputs": [],
   "source": [
    "import pandas as pd\n",
    "import math\n",
    "import autograd.numpy as np\n",
    "import matplotlib.pyplot as plt\n",
    "from scipy import stats\n",
    "from scipy.stats import t\n",
    "from scipy.optimize import minimize, least_squares\n",
    "from gc_aux import r2_score\n",
    "from sklearn.metrics import mean_absolute_error\n",
    "from gc_prop_calculation import lhs_cal, y_pred_cal"
   ]
  },
  {
   "cell_type": "markdown",
   "id": "0ce01279",
   "metadata": {},
   "source": [
    "#### data loading and processing"
   ]
  },
  {
   "cell_type": "code",
   "execution_count": 2,
   "id": "34951560",
   "metadata": {},
   "outputs": [],
   "source": [
    "prop_tag = 'Pc'"
   ]
  },
  {
   "cell_type": "code",
   "execution_count": 3,
   "id": "a3b04f6e",
   "metadata": {},
   "outputs": [],
   "source": [
    "#load the data of train set and test set\n",
    "df1 = pd.read_excel('data/excel_sp/Train_Pc.xlsx')\n",
    "df2 = pd.read_excel('data/excel_sp/Test_Pc.xlsx')"
   ]
  },
  {
   "cell_type": "code",
   "execution_count": 4,
   "id": "8c52ddfe",
   "metadata": {},
   "outputs": [],
   "source": [
    "df_concatenated = pd.concat([df1, df2], ignore_index=True)  \n",
    "\n",
    "df_concatenated_filtered = df_concatenated.loc[:, (df_concatenated != 0).any(axis=0)]\n",
    "\n",
    "df1_aft = df_concatenated_filtered.iloc[:len(df1)]  \n",
    "df2_aft = df_concatenated_filtered.iloc[len(df1):]  "
   ]
  },
  {
   "cell_type": "code",
   "execution_count": 5,
   "id": "60647aac",
   "metadata": {},
   "outputs": [],
   "source": [
    "df_grp_cnt = df_concatenated.loc[:,'CH3':]\n",
    "# extract first order groups and non-zero index\n",
    "df_fog = df_grp_cnt.iloc[:,:220]\n",
    "idx_fog = df_fog.sum(axis=0).to_numpy().nonzero()[0]\n",
    "nr_fog = len(idx_fog)\n",
    "# extract second order groups and non-zero index\n",
    "df_sog= df_grp_cnt.iloc[:,220:220+130]\n",
    "idx_sog = df_sog.sum(axis=0).to_numpy().nonzero()[0]\n",
    "nr_sog = len(idx_sog)\n",
    "# extract third order groups and non-zero index\n",
    "df_tog = df_grp_cnt.iloc[:,220+130:220+130+74]\n",
    "idx_tog = df_tog.sum(axis=0).to_numpy().nonzero()[0]\n",
    "nr_tog = len(idx_tog)"
   ]
  },
  {
   "cell_type": "code",
   "execution_count": 6,
   "id": "18630299",
   "metadata": {},
   "outputs": [],
   "source": [
    "df_raw = df1_aft\n",
    "# extract target values\n",
    "df_target = df_raw['Const_Value']\n",
    "# extract all groups\n",
    "df_grp = df_raw.loc[:,'CH3':]"
   ]
  },
  {
   "cell_type": "code",
   "execution_count": 7,
   "id": "c4cd8af4f1d86a5f",
   "metadata": {
    "ExecuteTime": {
     "end_time": "2023-12-03T16:04:49.440906400Z",
     "start_time": "2023-12-03T16:04:49.430181500Z"
    }
   },
   "outputs": [],
   "source": [
    "# extract G\n",
    "G = df_grp.to_numpy()\n",
    "G = G[:,:nr_fog+nr_sog+nr_tog].astype('float')\n",
    "G_fog = G[:,:nr_fog]\n",
    "G_sog = G[:,nr_fog:nr_fog+nr_sog]\n",
    "G_tog = G[:,nr_fog+nr_sog:]\n",
    "# extract y\n",
    "y = df_target.to_numpy() #*1000"
   ]
  },
  {
   "cell_type": "code",
   "execution_count": null,
   "id": "425378aa",
   "metadata": {},
   "outputs": [],
   "source": [
    "# for not dividing train and test set\n",
    "\n",
    "# load the data\n",
    "df_raw = pd.read_excel('data/new_excels/Pc.xlsx')\n",
    "# extract target values\n",
    "df_target = df_raw['Const_Value']\n",
    "# extract all groups\n",
    "df_grp = df_raw.loc[:,'CH3':]\n",
    "# df_grp = df_raw[df_raw.columns[2:]]\n",
    "# extract first order groups and non-zero index\n",
    "df_fog = df_grp.iloc[:,:220]\n",
    "idx_fog = df_fog.sum(axis=0).to_numpy().nonzero()[0]\n",
    "nr_fog = len(idx_fog)\n",
    "# extract second order groups and non-zero index\n",
    "df_sog= df_grp.iloc[:,220:220+130]\n",
    "idx_sog = df_sog.sum(axis=0).to_numpy().nonzero()[0]\n",
    "nr_sog = len(idx_sog)\n",
    "# extract third order groups and non-zero index\n",
    "df_tog = df_grp.iloc[:,220+130:220+130+74]\n",
    "idx_tog = df_tog.sum(axis=0).to_numpy().nonzero()[0]\n",
    "nr_tog = len(idx_tog)"
   ]
  },
  {
   "cell_type": "markdown",
   "id": "663f1daa",
   "metadata": {},
   "source": [
    "#### Initialization"
   ]
  },
  {
   "cell_type": "code",
   "execution_count": 8,
   "id": "681a5cc7d3f204e8",
   "metadata": {
    "ExecuteTime": {
     "end_time": "2023-12-03T16:04:49.533732700Z",
     "start_time": "2023-12-03T16:04:49.440906400Z"
    }
   },
   "outputs": [],
   "source": [
    "# define universal constant and calculate lhs\n",
    "uni_const, lhs = lhs_cal(prop_tag, y)\n",
    "# initialization of theta\n",
    "theta_ini = theta = np.matmul(np.matmul(np.linalg.pinv(np.matmul(np.transpose(G),G)),np.transpose(G)),lhs)"
   ]
  },
  {
   "cell_type": "code",
   "execution_count": 19,
   "id": "174e4687a6bc5626",
   "metadata": {
    "ExecuteTime": {
     "end_time": "2023-12-03T16:04:49.723374800Z",
     "start_time": "2023-12-03T16:04:49.536743Z"
    },
    "scrolled": false
   },
   "outputs": [
    {
     "name": "stdout",
     "output_type": "stream",
     "text": [
      "mae of fog:2.678890318810842\n",
      "mae of sog:2.066514384901274\n",
      "mae of tog:1.5806762193350496\n",
      "r2 of fog:0.7568654377288809\n",
      "r2 of sog:0.899249016296829\n",
      "r2 of tog:0.9339388490039366\n",
      "are of tog:4.468064219841209\n",
      "mre of tog:3.1555257435915403\n"
     ]
    },
    {
     "data": {
      "image/png": "[encoded data removed]",
      "text/plain": [
       "<Figure size 640x480 with 1 Axes>"
      ]
     },
     "metadata": {},
     "output_type": "display_data"
    }
   ],
   "source": [
    "# prediction on each level\n",
    "y0_fog = y_pred_cal(G_fog, uni_const, theta_ini[:nr_fog], 0, 0, prop_tag)\n",
    "y0_sog = y_pred_cal(G_sog, uni_const, theta_ini[nr_fog:nr_fog+nr_sog], np.matmul(G_fog, theta_ini[:nr_fog]), 0, prop_tag)\n",
    "y0_tog = y_pred_cal(G, uni_const, theta_ini, 0, 0, prop_tag)\n",
    "\n",
    "# calculate mae and r2 for each level\n",
    "fog_0_r2 = r2_score(y, y0_fog)\n",
    "fog_0_mae = mean_absolute_error(y,y0_fog)\n",
    "sog_0_r2 = r2_score(y,y0_sog)\n",
    "sog_0_mae = mean_absolute_error(y,y0_sog)\n",
    "tog_0_r2 = r2_score(y,y0_tog)\n",
    "tog_0_mae = mean_absolute_error(y,y0_tog)\n",
    "tog_0_are = np.average(np.abs((y - y0_tog) / y))*100\n",
    "tog_0_mre = np.median(np.abs((y - y0_tog) / y))*100\n",
    "# printing\n",
    "print('mae of fog:' + str(fog_0_mae))\n",
    "print('mae of sog:' + str(sog_0_mae))\n",
    "print('mae of tog:' + str(tog_0_mae))\n",
    "\n",
    "print('r2 of fog:' + str(fog_0_r2))\n",
    "print('r2 of sog:' + str(sog_0_r2))\n",
    "print('r2 of tog:' + str(tog_0_r2))\n",
    "\n",
    "print('are of tog:' + str(tog_0_are))\n",
    "print('mre of tog:' + str(tog_0_mre))\n",
    "\n",
    "# plot\n",
    "plt.scatter(y,y0_tog)\n",
    "plt.plot([0,500],[0,500], color='black', linestyle='--',linewidth=0.8)\n",
    "# plt.savefig('Parity Plot of y0_tog and y_true for '+prop_tag+'.pdf')\n",
    "plt.show()"
   ]
  },
  {
   "cell_type": "markdown",
   "id": "454f851b",
   "metadata": {},
   "source": [
    "#### Simplex method"
   ]
  },
  {
   "cell_type": "code",
   "execution_count": 11,
   "id": "48c5cc1ee27c3472",
   "metadata": {
    "ExecuteTime": {
     "end_time": "2023-12-03T16:07:25.196750300Z",
     "start_time": "2023-12-03T16:04:49.723374800Z"
    }
   },
   "outputs": [
    {
     "name": "stderr",
     "output_type": "stream",
     "text": [
      "C:\\Users\\49332\\AppData\\Local\\Temp\\ipykernel_16252\\1163912891.py:19: RuntimeWarning: Maximum number of function evaluations has been exceeded.\n",
      "  result = minimize(fog_sse_lfvl, fog_ini, args=(G_fog, y), jac=None, method='Nelder-Mead',\n"
     ]
    }
   ],
   "source": [
    "# define objective function\n",
    "def fog_sse_lfvl(fog_params, G, y):\n",
    "    \"\"\"\n",
    "    Funtion to calculate the sum of squared errors of the gc model using first order groups\n",
    "    :param fog_params: group contributions \n",
    "    :param G: group occurrence\n",
    "    :param y: target values\n",
    "    :return: \n",
    "    \"\"\"\n",
    "    y_pred = y_pred_cal(G, fog_params[0], fog_params[1:], 0, 0, prop_tag)    \n",
    "#     y_pred = y_pred_cal(G, [fog_params[0], fog_params[1], fog_params[2]], fog_params[3:], 0, 0, prop_tag)  #for omega\n",
    "\n",
    "    errors = y-y_pred\n",
    "    sse = np.sum(errors ** 2)\n",
    "    return sse\n",
    "# define initial params\n",
    "fog_ini = np.append(uni_const,theta_ini[:nr_fog])\n",
    "# perform optimization Nelder Mead then L-BFGS-B\n",
    "result = minimize(fog_sse_lfvl, fog_ini, args=(G_fog, y), jac=None, method='Nelder-Mead',\n",
    "                  options={'fatol': 1e-6, 'disp': True, 'maxiter': 300000, 'maxfev': 300000})\n",
    "# perform optimization\n",
    "result = minimize(fog_sse_lfvl, result.x, args=(G_fog, y), jac=None, method='L-BFGS-B',\n",
    "                  options={'ftol': 1e-6, 'disp': True, 'maxiter': 300000, 'maxfun': 300000})\n",
    "result\n",
    "fog_simp = result.x"
   ]
  },
  {
   "cell_type": "code",
   "execution_count": 13,
   "id": "f48a3404552e095b",
   "metadata": {
    "ExecuteTime": {
     "end_time": "2023-12-03T16:08:32.010917300Z",
     "start_time": "2023-12-03T16:07:25.206874300Z"
    }
   },
   "outputs": [
    {
     "name": "stderr",
     "output_type": "stream",
     "text": [
      "C:\\Users\\49332\\AppData\\Local\\Temp\\ipykernel_16252\\261937795.py:21: RuntimeWarning: Maximum number of function evaluations has been exceeded.\n",
      "  result = minimize(sog_sse_lfvl, sog_ini, args=(G_sog,fog_simp,G_fog, y), jac=None, method='Nelder-Mead',\n"
     ]
    }
   ],
   "source": [
    "# define objective function for the use of second order groups\n",
    "def sog_sse_lfvl(sog_params, G2, fog_params, G1, y):\n",
    "    \"\"\"\n",
    "    Funtion to calculate the sum of squared errors of the gc model using second order groups\n",
    "    :param sogparams: group contributions \n",
    "    :param G: group occurrence\n",
    "    :param y: target values\n",
    "    :return: \n",
    "    \"\"\"\n",
    "    fog_contrib = np.matmul(G1, fog_params[1:]) \n",
    "\n",
    "    y_pred = y_pred_cal(G2, fog_params[0], sog_params, fog_contrib, 0, prop_tag)\n",
    "#     y_pred = y_pred_cal(G2, [fog_params[0], fog_params[1], fog_params[2]], sog_params, fog_contrib, 0, prop_tag) #for omega\n",
    "    \n",
    "    errors = y-y_pred\n",
    "    sse = np.sum(errors ** 2)\n",
    "    return sse\n",
    "# define initial params\n",
    "sog_ini = theta_ini[nr_fog:nr_fog+nr_sog]\n",
    "# perform optimization Nelder Mead then L-BFGS-B\n",
    "result = minimize(sog_sse_lfvl, sog_ini, args=(G_sog,fog_simp,G_fog, y), jac=None, method='Nelder-Mead',\n",
    "                  options={'fatol': 1e-6, 'disp': True, 'maxiter': 300000, 'maxfev': 300000})\n",
    "# perform optimization\n",
    "result = minimize(sog_sse_lfvl, result.x, args=(G_sog,fog_simp,G_fog, y), jac=None, method='L-BFGS-B',\n",
    "                  options={'ftol': 1e-6, 'disp': True, 'maxiter': 300000, 'maxfun': 300000})\n",
    "result\n",
    "sog_simp = result.x"
   ]
  },
  {
   "cell_type": "code",
   "execution_count": 14,
   "id": "4af274f37b54126e",
   "metadata": {
    "ExecuteTime": {
     "end_time": "2023-12-03T16:08:37.557965100Z",
     "start_time": "2023-12-03T16:08:32.019046800Z"
    },
    "scrolled": true
   },
   "outputs": [
    {
     "name": "stdout",
     "output_type": "stream",
     "text": [
      "Optimization terminated successfully.\n",
      "         Current function value: 22899.476135\n",
      "         Iterations: 31405\n",
      "         Function evaluations: 37309\n"
     ]
    }
   ],
   "source": [
    "# define objective function for the use of second order groups\n",
    "def tog_sse_lfvl(tog_params, G3, fog_params, G1, sog_params, G2, y):\n",
    "    \"\"\"\n",
    "    Funtion to calculate the sum of squared errors of the lower flammability limit gc model using third order groups\n",
    "    :param sogparams: group contributions \n",
    "    :param G: group occurrence\n",
    "    :param y: target values\n",
    "    :return: \n",
    "    \"\"\"\n",
    "    fog_contrib = np.matmul(G1, fog_params[1:]) \n",
    "    sog_contrib = np.matmul(G2, sog_params) \n",
    "    y_pred = y_pred_cal(G3, fog_params[0], tog_params, fog_contrib, sog_contrib, prop_tag)\n",
    "#     y_pred = y_pred_cal(G3, [fog_params[0], fog_params[1], fog_params[2]], tog_params, fog_contrib, sog_contrib, prop_tag) #for omega\n",
    "    \n",
    "    errors = y-y_pred\n",
    "    sse = np.sum(errors ** 2)\n",
    "    return sse\n",
    "# define initial params\n",
    "tog_ini = theta_ini[nr_fog+nr_sog:]\n",
    "# perform optimization Nelder Mead then L-BFGS-B\n",
    "result = minimize(tog_sse_lfvl, tog_ini, args=(G_tog,fog_simp,G_fog, sog_simp, G_sog,y), jac=None, method='Nelder-Mead',\n",
    "                  options={'fatol': 1e-6, 'disp': True, 'maxiter': 300000, 'maxfev': 300000})\n",
    "# perform optimization\n",
    "result = minimize(tog_sse_lfvl, result.x, args=(G_tog,fog_simp,G_fog, sog_simp, G_sog,y), jac=None, method='L-BFGS-B',\n",
    "                  options={'ftol': 1e-6, 'disp': True, 'maxiter': 300000, 'maxfun': 300000})\n",
    "result\n",
    "tog_simp = result.x"
   ]
  },
  {
   "cell_type": "code",
   "execution_count": 18,
   "id": "113239227146f4c5",
   "metadata": {
    "ExecuteTime": {
     "end_time": "2023-12-03T16:11:00.234166Z",
     "start_time": "2023-12-03T16:11:00.075027400Z"
    }
   },
   "outputs": [
    {
     "name": "stdout",
     "output_type": "stream",
     "text": [
      "mae of fog:1.7007548831654773\n",
      "mae of sog:1.6573096001704721\n",
      "mae of tog:1.6250190804313722\n",
      "r2 of fog:0.9315996893467942\n",
      "r2 of sog:0.9407619304916289\n",
      "r2 of tog:0.9433826550940296\n",
      "are of tog:5.3578190869723565\n"
     ]
    },
    {
     "data": {
      "image/png": "[encoded data removed]",
      "text/plain": [
       "<Figure size 640x480 with 1 Axes>"
      ]
     },
     "metadata": {},
     "output_type": "display_data"
    }
   ],
   "source": [
    "# # prediction on each level\n",
    "y_simp_fog = y_pred_cal(G_fog, fog_simp[0], fog_simp[1:], 0, 0, prop_tag)\n",
    "y_simp_sog = y_pred_cal(G_sog, fog_simp[0], sog_simp, np.matmul(G_fog, fog_simp[1:]), 0, prop_tag)\n",
    "y_simp_tog = y_pred_cal(G_tog, fog_simp[0], tog_simp, np.matmul(G_fog, fog_simp[1:]), np.matmul(G_sog, sog_simp), prop_tag)\n",
    "\n",
    "# for omega\n",
    "# y_simp_fog = y_pred_cal(G_fog, [fog_simp[0], fog_simp[1], fog_simp[2]], fog_simp[3:], 0, 0, prop_tag)\n",
    "# y_simp_sog = y_pred_cal(G_sog, [fog_simp[0], fog_simp[1], fog_simp[2]], sog_simp, np.matmul(G_fog, fog_simp[3:]), 0, prop_tag)\n",
    "# y_simp_tog = y_pred_cal(G_tog, [fog_simp[0], fog_simp[1], fog_simp[2]], tog_simp, np.matmul(G_fog, fog_simp[3:]), np.matmul(G_sog, sog_simp), prop_tag)\n",
    "\n",
    "# calculate mae and r2 for each level\n",
    "fog_simp_r2 = r2_score(y,y_simp_fog)\n",
    "fog_simp_mae = mean_absolute_error(y,y_simp_fog)\n",
    "sog_simp_r2 = r2_score(y,y_simp_sog)\n",
    "sog_simp_mae = mean_absolute_error(y,y_simp_sog)\n",
    "tog_simp_r2 = r2_score(y,y_simp_tog)\n",
    "tog_simp_mae = mean_absolute_error(y,y_simp_tog)\n",
    "tog_simp_are = np.average(np.abs((y - y_simp_tog) / y))*100\n",
    "tog_simp_mre = np.median(np.abs((y - y_simp_tog) / y))*100\n",
    "# printing\n",
    "print('mae of fog:' + str(fog_simp_mae))\n",
    "print('mae of sog:' + str(sog_simp_mae))\n",
    "print('mae of tog:' + str(tog_simp_mae))\n",
    "\n",
    "print('r2 of fog:' + str(fog_simp_r2))\n",
    "print('r2 of sog:' + str(sog_simp_r2))\n",
    "print('r2 of tog:' + str(tog_simp_r2))\n",
    "\n",
    "print('are of tog:' + str(tog_simp_are))\n",
    "\n",
    "# plot\n",
    "plt.scatter(y,y_simp_tog)\n",
    "plt.plot([0,500],[0,500], color='black', linestyle='--',linewidth=0.8)\n",
    "# plt.savefig('Parity Plot of y_simp_tog and y_true for '+prop_tag+'.pdf')\n",
    "plt.show()"
   ]
  },
  {
   "cell_type": "markdown",
   "id": "28c21a11",
   "metadata": {},
   "source": [
    "#### LM method"
   ]
  },
  {
   "cell_type": "code",
   "execution_count": 16,
   "id": "7aea3a956633fff",
   "metadata": {
    "ExecuteTime": {
     "end_time": "2023-12-03T16:30:53.799134500Z",
     "start_time": "2023-12-03T16:30:53.375049Z"
    }
   },
   "outputs": [
    {
     "name": "stdout",
     "output_type": "stream",
     "text": [
      "`ftol` termination condition is satisfied.\n",
      "Function evaluations 791, initial cost 1.3661e+04, final cost 1.3647e+04, first-order optimality 2.01e+01.\n",
      "`ftol` termination condition is satisfied.\n",
      "Function evaluations 1091, initial cost 1.1869e+04, final cost 1.1868e+04, first-order optimality 1.46e+01.\n",
      "`ftol` termination condition is satisfied.\n",
      "Function evaluations 100, initial cost 1.1334e+04, final cost 1.1334e+04, first-order optimality 1.00e+00.\n"
     ]
    }
   ],
   "source": [
    "# define the functions\n",
    "def fog_residuals(fog_params, G, y):\n",
    "    \"\"\"\n",
    "    \n",
    "    :param y_exp: \n",
    "    :param y_pred: \n",
    "    :return: \n",
    "    \"\"\"\n",
    "    y_pred = y_pred_cal(G, fog_params[0], fog_params[1:], 0, 0, prop_tag)\n",
    "#     y_pred = y_pred_cal(G, [fog_params[0], fog_params[1], fog_params[2]], fog_params[3:], 0, 0, prop_tag)\n",
    "    \n",
    "    errors = y-y_pred\n",
    "    return errors\n",
    "\n",
    "def sog_residuals(sog_params, G2, fog_params, G1, y):\n",
    "    \"\"\"\n",
    "    \n",
    "    :param y_exp: \n",
    "    :param y_pred: \n",
    "    :return: \n",
    "    \"\"\"\n",
    "    fog_contrib = np.matmul(G1, fog_params[1:]) \n",
    "    y_pred = y_pred_cal(G2, fog_params[0], sog_params, fog_contrib, 0, prop_tag)\n",
    "#     y_pred = y_pred_cal(G2, [fog_params[0], fog_params[1], fog_params[2]], sog_params, fog_contrib, 0, prop_tag)\n",
    "\n",
    "    errors = y-y_pred\n",
    "    return errors\n",
    "    \n",
    "def tog_residuals(tog_params, G3, fog_params, G1, sog_params, G2, y):\n",
    "    \"\"\"\n",
    "    \n",
    "    :param y_exp: \n",
    "    :param y_pred: \n",
    "    :return: \n",
    "    \"\"\"\n",
    "    fog_contrib = np.matmul(G1, fog_params[1:]) \n",
    "    sog_contrib = np.matmul(G2, sog_params) \n",
    "    y_pred = y_pred_cal(G3, fog_params[0], tog_params, fog_contrib, sog_contrib, prop_tag)\n",
    "#     y_pred = y_pred_cal(G3, [fog_params[0], fog_params[1], fog_params[2]], tog_params, fog_contrib, sog_contrib, prop_tag)    \n",
    "\n",
    "    errors = y-y_pred\n",
    "    return errors\n",
    "\n",
    "\n",
    "result_lm_fog = least_squares(fog_residuals, fog_simp, args=(G_fog, y), method='lm', verbose=2)\n",
    "fog_lm = result_lm_fog.x\n",
    "\n",
    "result_lm_sog = least_squares(sog_residuals, sog_simp, args=(G_sog,fog_simp,G_fog, y), method='lm', verbose=2)\n",
    "sog_lm = result_lm_sog.x\n",
    "\n",
    "result_lm_tog = least_squares(tog_residuals, tog_simp, args=(G_tog,fog_simp,G_fog, sog_simp, G_sog,y), method='lm', verbose=2)\n",
    "tog_lm = result_lm_tog.x\n"
   ]
  },
  {
   "cell_type": "code",
   "execution_count": 17,
   "id": "b4ef860974eda812",
   "metadata": {
    "ExecuteTime": {
     "end_time": "2023-12-03T16:30:54.700740200Z",
     "start_time": "2023-12-03T16:30:54.542098700Z"
    }
   },
   "outputs": [
    {
     "name": "stdout",
     "output_type": "stream",
     "text": [
      "mae of fog:1.6908132116230616\n",
      "mae of sog:1.6551384201857244\n",
      "mae of tog:1.6232199271476473\n",
      "r2 of fog:0.9316694779256935\n",
      "r2 of sog:0.9408078216467923\n",
      "r2 of tog:0.9434779806450455\n",
      "are of tog:5.352847120714645\n"
     ]
    },
    {
     "data": {
      "image/png": "[encoded data removed]",
      "text/plain": [
       "<Figure size 640x480 with 1 Axes>"
      ]
     },
     "metadata": {},
     "output_type": "display_data"
    }
   ],
   "source": [
    "# prediction on each level\n",
    "y_lm_fog = y_pred_cal(G_fog, fog_lm[0], fog_lm[1:], 0, 0, prop_tag)\n",
    "y_lm_sog = y_pred_cal(G_sog, fog_lm[0], sog_lm, np.matmul(G_fog, fog_lm[1:]), 0, prop_tag)\n",
    "y_lm_tog = y_pred_cal(G_tog, fog_lm[0], tog_lm, np.matmul(G_fog, fog_lm[1:]), np.matmul(G_sog, sog_lm), prop_tag)\n",
    "\n",
    "# for omega\n",
    "# y_lm_fog = y_pred_cal(G_fog, [fog_lm[0],fog_lm[1],fog_lm[2]], fog_lm[3:], 0, 0, prop_tag)\n",
    "# y_lm_sog = y_pred_cal(G_sog, [fog_lm[0],fog_lm[1],fog_lm[2]], sog_lm, np.matmul(G_fog, fog_lm[3:]), 0, prop_tag)\n",
    "# y_lm_tog = y_pred_cal(G_tog, [fog_lm[0],fog_lm[1],fog_lm[2]], tog_lm, np.matmul(G_fog, fog_lm[3:]), np.matmul(G_sog, sog_lm), prop_tag)\n",
    "\n",
    "# calculate mae and r2 for each level\n",
    "fog_lm_r2 = r2_score(y,y_lm_fog)\n",
    "fog_lm_mae = mean_absolute_error(y,y_lm_fog)\n",
    "sog_lm_r2 = r2_score(y,y_lm_sog)\n",
    "sog_lm_mae = mean_absolute_error(y,y_lm_sog)\n",
    "tog_lm_r2 = r2_score(y,y_lm_tog)\n",
    "tog_lm_mae = mean_absolute_error(y,y_lm_tog)\n",
    "tog_lm_are = np.average(np.abs((y - y_lm_tog) / y))*100\n",
    "# printing\n",
    "print('mae of fog:' + str(fog_lm_mae))\n",
    "print('mae of sog:' + str(sog_lm_mae))\n",
    "print('mae of tog:' + str(tog_lm_mae))\n",
    "\n",
    "print('r2 of fog:' + str(fog_lm_r2))\n",
    "print('r2 of sog:' + str(sog_lm_r2))\n",
    "print('r2 of tog:' + str(tog_lm_r2))\n",
    "\n",
    "print('are of tog:' + str(tog_lm_are))\n",
    "\n",
    "# plot\n",
    "plt.scatter(y,y_lm_tog,s=20)\n",
    "plt.plot([0, 500], [0, 500], color='black', linestyle='--',linewidth=0.8)\n",
    "plt.xlabel('True Values')\n",
    "plt.ylabel('Predicted Values')\n",
    "plt.tight_layout()\n",
    "\n",
    "# plt.savefig('Parity Plot of y_lm_tog and y_true for '+prop_tag+'.pdf')\n",
    "plt.show()"
   ]
  }
 ],
 "metadata": {
  "kernelspec": {
   "display_name": "Python [conda env:test] *",
   "language": "python",
   "name": "conda-env-test-py"
  },
  "language_info": {
   "codemirror_mode": {
    "name": "ipython",
    "version": 3
   },
   "file_extension": ".py",
   "mimetype": "text/x-python",
   "name": "python",
   "nbconvert_exporter": "python",
   "pygments_lexer": "ipython3",
   "version": "3.8.18"
  }
 },
 "nbformat": 4,
 "nbformat_minor": 5
}
