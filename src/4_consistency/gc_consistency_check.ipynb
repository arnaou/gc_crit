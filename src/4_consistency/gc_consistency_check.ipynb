{
 "cells": [
  {
   "cell_type": "code",
   "execution_count": 1,
   "id": "c4ac8880",
   "metadata": {},
   "outputs": [],
   "source": [
    "import math\n",
    "import pandas as pd\n",
    "import numpy as np\n",
    "from gc_aux import r2_score\n",
    "import matplotlib.pyplot as plt\n",
    "from sklearn.preprocessing import StandardScaler\n",
    "import seaborn as sns"
   ]
  },
  {
   "cell_type": "code",
   "execution_count": 2,
   "id": "0e8bf5dc",
   "metadata": {},
   "outputs": [],
   "source": [
    "df_raw = pd.read_excel('data/n-alkanes.xlsx')\n",
    "\n",
    "\n",
    "# df_res = pd.DataFrame()\n",
    "df_res = pd.read_excel('data/nklane_res.xlsx')"
   ]
  },
  {
   "cell_type": "code",
   "execution_count": 3,
   "id": "308b12e1",
   "metadata": {},
   "outputs": [],
   "source": [
    "df_res['SMILES'] = df_raw['SMILES']\n",
    "df_res['C'] = df_raw['SMILES'].apply(lambda x: x.count('C'))\n",
    "\n",
    "df_res['C'] = df_raw['nC']"
   ]
  },
  {
   "cell_type": "code",
   "execution_count": 4,
   "id": "8a901f8b",
   "metadata": {},
   "outputs": [],
   "source": [
    "df_grp = df_raw.loc[:,1:]\n",
    "G = df_grp.to_numpy()"
   ]
  },
  {
   "cell_type": "code",
   "execution_count": 189,
   "id": "8b70e6b4",
   "metadata": {},
   "outputs": [
    {
     "data": {
      "text/plain": [
       "array([[  2,   1,   0, ...,   0,   0,   0],\n",
       "       [  2,   2,   0, ...,   0,   0,   0],\n",
       "       [  2,   3,   0, ...,   0,   0,   0],\n",
       "       ...,\n",
       "       [  2, 709,   0, ...,   0,   0,   0],\n",
       "       [  2, 710,   0, ...,   0,   0,   0],\n",
       "       [  2, 711,   0, ...,   0,   0,   0]], dtype=int64)"
      ]
     },
     "execution_count": 189,
     "metadata": {},
     "output_type": "execute_result"
    }
   ],
   "source": [
    "G"
   ]
  },
  {
   "cell_type": "markdown",
   "id": "c8330024",
   "metadata": {},
   "source": [
    "Linear ones"
   ]
  },
  {
   "cell_type": "code",
   "execution_count": 193,
   "id": "8515620a",
   "metadata": {},
   "outputs": [],
   "source": [
    "params_Pc = pd.read_excel('data/theta_Pc.xlsx')\n",
    "theta_pc = params_Pc.to_numpy().reshape(424+1,) \n",
    "\n",
    "params_Tc = pd.read_excel('data/theta_Tc.xlsx')\n",
    "theta_tc = params_Tc.to_numpy().reshape(424+1,) \n",
    "\n",
    "params_Vc = pd.read_excel('data/theta_Vc.xlsx')\n",
    "theta_vc = params_Vc.to_numpy().reshape(424+1,) "
   ]
  },
  {
   "cell_type": "code",
   "execution_count": 194,
   "id": "b95ee2ae",
   "metadata": {},
   "outputs": [],
   "source": [
    "from gc_prop_calculation import y_pred_cal\n",
    "\n",
    "df_res['Tc_lgc'] = y_pred_cal(G, theta_tc[0], theta_tc[1:], 0, 0, 'Tc') \n",
    "df_res['Vc_lgc'] = y_pred_cal(G, theta_vc[0], theta_vc[1:], 0, 0, 'Vc') \n",
    "df_res['Pc_lgc'] = y_pred_cal(G, theta_pc[0], theta_pc[1:], 0, 0, 'Pc') "
   ]
  },
  {
   "cell_type": "markdown",
   "id": "bc09da34",
   "metadata": {},
   "source": [
    "ML ones"
   ]
  },
  {
   "cell_type": "code",
   "execution_count": 21,
   "id": "4d8a1714",
   "metadata": {},
   "outputs": [],
   "source": [
    "import pickle\n",
    "\n",
    "with open('svr_all_Tc.pkl', 'rb') as file:\n",
    "    Tc_svr_pi = pickle.load(file)\n",
    "    \n",
    "with open('tree_all_Tc.pkl', 'rb') as file:\n",
    "    Tc_tre_pi = pickle.load(file)\n",
    "    \n",
    "with open('svr_all_Vc.pkl', 'rb') as file:\n",
    "    Vc_svr_pi = pickle.load(file)\n",
    "    \n",
    "with open('svr_all_Pc.pkl', 'rb') as file:\n",
    "    Pc_svr_pi = pickle.load(file)\n",
    "    \n",
    "with open('tree_all_Pc.pkl', 'rb') as file:\n",
    "    Pc_tre_pi = pickle.load(file)\n",
    "\n",
    "with open('svr_all_Zc.pkl', 'rb') as file:\n",
    "    Zc_svr_pi = pickle.load(file)\n",
    "    \n",
    "with open('tree_all_Zc.pkl', 'rb') as file:\n",
    "    Zc_tre_pi = pickle.load(file)\n",
    "\n",
    "Tc_svr = Tc_svr_pi['model']\n",
    "Tc_tre = Tc_tre_pi['model']\n",
    "Tc_scaler = Tc_svr_pi['scaler']\n",
    "\n",
    "Vc_svr = Vc_svr_pi['model']\n",
    "Vc_scaler = Vc_svr_pi['scaler']\n",
    "\n",
    "Pc_svr = Pc_svr_pi['model']\n",
    "Pc_tre = Pc_tre_pi['model']\n",
    "Pc_scaler = Pc_svr_pi['scaler']\n",
    "\n",
    "Zc_svr = Zc_svr_pi['model']\n",
    "Zc_tre = Zc_tre_pi['model']\n",
    "Zc_scaler = Zc_svr_pi['scaler']\n",
    "\n",
    "df_res['Tc_svr'] = Tc_scaler.inverse_transform(Tc_svr.predict(G).reshape(-1, 1))\n",
    "df_res['Vc_svr'] = Vc_scaler.inverse_transform(Vc_svr.predict(G).reshape(-1, 1))\n",
    "df_res['Pc_svr'] = Pc_scaler.inverse_transform(Pc_svr.predict(G).reshape(-1, 1))\n",
    "df_res['Zc_svr'] = Zc_scaler.inverse_transform(Zc_svr.predict(G).reshape(-1, 1))"
   ]
  },
  {
   "cell_type": "code",
   "execution_count": 22,
   "id": "0336b751",
   "metadata": {},
   "outputs": [],
   "source": [
    "df_res['Zc_tre'] = Zc_scaler.inverse_transform(Zc_tre.predict(G).reshape(-1, 1))"
   ]
  },
  {
   "cell_type": "code",
   "execution_count": 196,
   "id": "d3f5bb34",
   "metadata": {},
   "outputs": [],
   "source": [
    "df_res['Pc_tre'] = Pc_scaler.inverse_transform(Pc_tre.predict(G).reshape(-1, 1))\n",
    "df_res['Tc_tre'] = Tc_scaler.inverse_transform(Tc_tre.predict(G).reshape(-1, 1))"
   ]
  },
  {
   "cell_type": "code",
   "execution_count": 7,
   "id": "602fdc55",
   "metadata": {
    "scrolled": true
   },
   "outputs": [],
   "source": [
    "df_res['Zc_cal'] = (df_res['Pc_lgc'] * df_res['Vc_lgc']/1000) / (0.083* df_res['Tc_lgc'])"
   ]
  },
  {
   "cell_type": "markdown",
   "id": "66c4bd3e",
   "metadata": {},
   "source": [
    "torch models"
   ]
  },
  {
   "cell_type": "code",
   "execution_count": 88,
   "id": "82cec70a",
   "metadata": {},
   "outputs": [],
   "source": [
    "# import gpytorch\n",
    "\n",
    "# class GPModel(gpytorch.models.ExactGP):\n",
    "#     def __init__(self, x_train, y_train, likelihood):\n",
    "#         super(GPModel, self).__init__(x_train, y_train, likelihood)\n",
    "#         self.mean_module = gpytorch.means.ConstantMean()\n",
    "        \n",
    "#         self.rbf_kernel_1 = gpytorch.kernels.ScaleKernel(gpytorch.kernels.RBFKernel())\n",
    "#         self.rbf_kernel_2 = gpytorch.kernels.ScaleKernel(gpytorch.kernels.RBFKernel())\n",
    "        \n",
    "#         self.covar_module = gpytorch.kernels.AdditiveKernel(self.rbf_kernel_1, self.rbf_kernel_2)\n",
    "\n",
    "#     def forward(self, x):\n",
    "#         x_mean = self.mean_module(x)\n",
    "#         x_covar = self.covar_module(x)\n",
    "#         return gpytorch.distributions.MultivariateNormal(x_mean, x_covar)"
   ]
  },
  {
   "cell_type": "code",
   "execution_count": 171,
   "id": "3c779ce9",
   "metadata": {},
   "outputs": [],
   "source": [
    "# import torch\n",
    "# import torchvision.models as models\n",
    "\n",
    "# df_raw = pd.read_excel('data/excel_sp/Train_Tc.xlsx')\n",
    "# df_target = df_raw['Const_Value']\n",
    "# y_train = df_target.to_numpy()\n",
    "# df_grp = df_raw.loc[:,'CH3':]\n",
    "# df_grp = df_grp.iloc[:,:220+130+74]\n",
    "# G_train = df_grp.to_numpy()\n",
    "\n",
    "# ys_train = Pc_scaler.transform(y_train.reshape(-1, 1)).reshape(y_train.size,)\n",
    "\n",
    "# x_to = torch.from_numpy(G).float()\n",
    "# y_to = torch.from_numpy(ys_train).float()"
   ]
  },
  {
   "cell_type": "code",
   "execution_count": 28,
   "id": "09805e5f",
   "metadata": {},
   "outputs": [],
   "source": [
    "import torch.nn.functional as F\n",
    "import torch.nn as nn\n",
    "\n",
    "class GC_ANN(nn.Module):\n",
    "    def __init__(self, drop_frac, input, hidden1, hidden2, hidden3, hidden4, hidden5, hidden6, hidden7, output):\n",
    "        super(GC_ANN, self).__init__()\n",
    "        self.layer1 = nn.Linear(input, hidden1)\n",
    "        self.layer2 = nn.Linear(hidden1, hidden2)\n",
    "        self.layer3 = nn.Linear(hidden2, hidden3)\n",
    "        self.layer4 = nn.Linear(hidden3, hidden4)\n",
    "        self.layer5 = nn.Linear(hidden4, hidden5)\n",
    "        self.layer6 = nn.Linear(hidden5, hidden6)\n",
    "        self.layer7 = nn.Linear(hidden6, hidden7)\n",
    "        self.layer8 = nn.Linear(hidden7, output)\n",
    "        self.dropout = nn.Dropout(drop_frac)\n",
    "        \n",
    "    def forward(self, x):\n",
    "        x = F.relu(self.layer1(x))\n",
    "        x = self.dropout(x)\n",
    "        x = F.relu(self.layer2(x))\n",
    "        x = self.dropout(x)\n",
    "        x = self.layer3(x)\n",
    "        x = self.dropout(x)\n",
    "        x = self.layer4(x)\n",
    "        x = self.dropout(x)\n",
    "        x = self.layer5(x)\n",
    "        x = self.dropout(x)\n",
    "        x = F.relu(self.layer6(x))\n",
    "        x = self.dropout(x)\n",
    "        x = F.relu(self.layer7(x))\n",
    "        x = self.layer8(x)\n",
    "        return x"
   ]
  },
  {
   "cell_type": "code",
   "execution_count": 30,
   "id": "da2f8fad",
   "metadata": {},
   "outputs": [
    {
     "data": {
      "text/plain": [
       "<All keys matched successfully>"
      ]
     },
     "execution_count": 30,
     "metadata": {},
     "output_type": "execute_result"
    }
   ],
   "source": [
    "import torch\n",
    "model = GC_ANN(0.001,424, 4096, 2048, 1024, 512,256,128,64,1)\n",
    "state_dict = torch.load('ann_all_groupsZc.pth')\n",
    "model.load_state_dict(state_dict)"
   ]
  },
  {
   "cell_type": "code",
   "execution_count": 32,
   "id": "49c059b3",
   "metadata": {},
   "outputs": [],
   "source": [
    "model.eval()  # 设置为评估模式\n",
    "\n",
    "G_to = torch.from_numpy(G).float()\n",
    "\n",
    "with torch.no_grad(): \n",
    "    predictions = model(G_to)\n",
    "    \n",
    "Zc_pred_ann = Zc_scaler.inverse_transform(predictions)"
   ]
  },
  {
   "cell_type": "code",
   "execution_count": 33,
   "id": "0c41c17b",
   "metadata": {},
   "outputs": [],
   "source": [
    "df_res['Zc_ann'] = Zc_pred_ann"
   ]
  },
  {
   "cell_type": "code",
   "execution_count": 207,
   "id": "140f19e9",
   "metadata": {
    "scrolled": true
   },
   "outputs": [],
   "source": [
    "df_res['Pc_ann'] = Pc_pred_ann"
   ]
  },
  {
   "cell_type": "code",
   "execution_count": 229,
   "id": "ea25de52",
   "metadata": {},
   "outputs": [],
   "source": [
    "df_res['Tc_ann'] = Tc_pred_ann"
   ]
  },
  {
   "cell_type": "code",
   "execution_count": 216,
   "id": "5f1529ed",
   "metadata": {},
   "outputs": [],
   "source": [
    "df_res['Pc_gpr'] =  np.loadtxt('my_array.txt')"
   ]
  },
  {
   "cell_type": "code",
   "execution_count": 238,
   "id": "18181a68",
   "metadata": {},
   "outputs": [],
   "source": [
    "df_res['Tc_gpr'] =  np.loadtxt('my_array.txt')"
   ]
  },
  {
   "cell_type": "code",
   "execution_count": 56,
   "id": "e99c71e3",
   "metadata": {},
   "outputs": [],
   "source": [
    "df_res['Zc_gpr'] =  np.loadtxt('my_array.txt')"
   ]
  },
  {
   "cell_type": "code",
   "execution_count": 6,
   "id": "526706ec",
   "metadata": {},
   "outputs": [],
   "source": [
    "df_res_1 = df_res.head(200)\n",
    "df_res_2 = df_res.head(50)"
   ]
  },
  {
   "cell_type": "code",
   "execution_count": 77,
   "id": "05c1e1ac",
   "metadata": {},
   "outputs": [
    {
     "data": {
      "image/png": "[encoded data removed]",
      "text/plain": [
       "<Figure size 640x480 with 1 Axes>"
      ]
     },
     "metadata": {},
     "output_type": "display_data"
    }
   ],
   "source": [
    "plt.scatter(df_res_1['C'], df_res_1['Pc_lgc'], s=2, c='black', marker='^',label='Linear GCM')\n",
    "plt.scatter(df_res_1['C'], df_res_1['Pc_gpr'], s=2, c='orange', marker='o',label='GPR')\n",
    "plt.scatter(df_res_1['C'], df_res_1['Pc_tre'], s=2, c='green', marker='o',label='DART')\n",
    "plt.scatter(df_res_1['C'], df_res_1['Pc_svr'], s=2, c='blue', marker='o',label='SVR')\n",
    "plt.scatter(df_res_1['C'], df_res_1['Pc_ann'], s=2, c='red', marker='o',label='ANN')\n",
    "\n",
    "plt.legend()\n",
    "plt.xlabel('n-alkanes with increasing carbon number')\n",
    "plt.ylabel('Pc (predicted)')\n",
    "plt.ylim(0, 50)\n",
    "# plt.save\n",
    "plt.xscale('log')\n",
    "plt.savefig('thesis/Pc_nk.pdf')\n",
    "plt.show()"
   ]
  },
  {
   "cell_type": "code",
   "execution_count": 8,
   "id": "3b24f81b",
   "metadata": {
    "scrolled": false
   },
   "outputs": [
    {
     "data": {
      "image/png": "[encoded data removed]",
      "text/plain": [
       "<Figure size 640x480 with 1 Axes>"
      ]
     },
     "metadata": {},
     "output_type": "display_data"
    }
   ],
   "source": [
    "plt.scatter(df_res_1['C'], df_res_1['Tc_lgc'], s=2, c='black', marker='^',label='Linear GCM')\n",
    "plt.scatter(df_res_1['C'], df_res_1['Tc_gpr'], s=2, c='orange', marker='o',label='GPR')\n",
    "plt.scatter(df_res_1['C'], df_res_1['Tc_tre'], s=2, c='green', marker='o',label='DART')\n",
    "plt.scatter(df_res_1['C'], df_res_1['Tc_svr'], s=2, c='blue', marker='o',label='SVR')\n",
    "plt.scatter(df_res_1['C'], df_res_1['Tc_ann'], s=2, c='red', marker='o',label='ANN')\n",
    "\n",
    "plt.ylim(350, 1400)\n",
    "plt.legend()\n",
    "plt.xlabel('n-alkanes with increasing carbon number')\n",
    "plt.ylabel('Tc (predicted)')\n",
    "# plt.xscale('log')\n",
    "plt.savefig('thesis/Tc_nk.pdf')\n",
    "plt.show()"
   ]
  },
  {
   "cell_type": "code",
   "execution_count": 62,
   "id": "e8af184e",
   "metadata": {},
   "outputs": [
    {
     "data": {
      "text/html": [
       "<div>\n",
       "<style scoped>\n",
       "    .dataframe tbody tr th:only-of-type {\n",
       "        vertical-align: middle;\n",
       "    }\n",
       "\n",
       "    .dataframe tbody tr th {\n",
       "        vertical-align: top;\n",
       "    }\n",
       "\n",
       "    .dataframe thead th {\n",
       "        text-align: right;\n",
       "    }\n",
       "</style>\n",
       "<table border=\"1\" class=\"dataframe\">\n",
       "  <thead>\n",
       "    <tr style=\"text-align: right;\">\n",
       "      <th></th>\n",
       "      <th>SMILES</th>\n",
       "      <th>C</th>\n",
       "      <th>Tc_lgc</th>\n",
       "      <th>Vc_lgc</th>\n",
       "      <th>Pc_lgc</th>\n",
       "      <th>Tc_svr</th>\n",
       "      <th>Vc_svr</th>\n",
       "      <th>Pc_svr</th>\n",
       "      <th>Zc_svr</th>\n",
       "      <th>Pc_tre</th>\n",
       "      <th>Tc_tre</th>\n",
       "      <th>Zc_cal</th>\n",
       "      <th>Pc_ann</th>\n",
       "      <th>Pc_gpr</th>\n",
       "      <th>Tc_ann</th>\n",
       "      <th>Tc_gpr</th>\n",
       "      <th>Zc_tre</th>\n",
       "      <th>Zc_ann</th>\n",
       "      <th>Zc_gpr</th>\n",
       "    </tr>\n",
       "  </thead>\n",
       "  <tbody>\n",
       "    <tr>\n",
       "      <th>0</th>\n",
       "      <td>CCC</td>\n",
       "      <td>3</td>\n",
       "      <td>400.018859</td>\n",
       "      <td>208.370884</td>\n",
       "      <td>46.070082</td>\n",
       "      <td>505.993247</td>\n",
       "      <td>274.871612</td>\n",
       "      <td>42.518480</td>\n",
       "      <td>0.271541</td>\n",
       "      <td>39.298855</td>\n",
       "      <td>534.445176</td>\n",
       "      <td>0.289133</td>\n",
       "      <td>39.681400</td>\n",
       "      <td>42.568752</td>\n",
       "      <td>543.010072</td>\n",
       "      <td>455.898895</td>\n",
       "      <td>0.263456</td>\n",
       "      <td>0.272593</td>\n",
       "      <td>0.273093</td>\n",
       "    </tr>\n",
       "    <tr>\n",
       "      <th>1</th>\n",
       "      <td>CCCC</td>\n",
       "      <td>4</td>\n",
       "      <td>443.865604</td>\n",
       "      <td>265.295470</td>\n",
       "      <td>40.532517</td>\n",
       "      <td>521.415770</td>\n",
       "      <td>320.238944</td>\n",
       "      <td>38.636955</td>\n",
       "      <td>0.271484</td>\n",
       "      <td>35.595452</td>\n",
       "      <td>545.626890</td>\n",
       "      <td>0.291880</td>\n",
       "      <td>36.548090</td>\n",
       "      <td>38.814186</td>\n",
       "      <td>554.444322</td>\n",
       "      <td>482.283234</td>\n",
       "      <td>0.262584</td>\n",
       "      <td>0.274280</td>\n",
       "      <td>0.279625</td>\n",
       "    </tr>\n",
       "    <tr>\n",
       "      <th>2</th>\n",
       "      <td>CCCCC</td>\n",
       "      <td>5</td>\n",
       "      <td>481.109268</td>\n",
       "      <td>322.220056</td>\n",
       "      <td>35.937513</td>\n",
       "      <td>539.693318</td>\n",
       "      <td>371.209761</td>\n",
       "      <td>35.006175</td>\n",
       "      <td>0.270189</td>\n",
       "      <td>31.717789</td>\n",
       "      <td>568.023510</td>\n",
       "      <td>0.289987</td>\n",
       "      <td>33.427030</td>\n",
       "      <td>35.328339</td>\n",
       "      <td>566.727043</td>\n",
       "      <td>514.076660</td>\n",
       "      <td>0.260928</td>\n",
       "      <td>0.273350</td>\n",
       "      <td>0.279437</td>\n",
       "    </tr>\n",
       "    <tr>\n",
       "      <th>3</th>\n",
       "      <td>CCCCCC</td>\n",
       "      <td>6</td>\n",
       "      <td>513.480783</td>\n",
       "      <td>379.144641</td>\n",
       "      <td>32.082689</td>\n",
       "      <td>559.663436</td>\n",
       "      <td>425.377778</td>\n",
       "      <td>31.811048</td>\n",
       "      <td>0.267634</td>\n",
       "      <td>28.536603</td>\n",
       "      <td>586.793419</td>\n",
       "      <td>0.285413</td>\n",
       "      <td>30.180322</td>\n",
       "      <td>31.095243</td>\n",
       "      <td>583.208767</td>\n",
       "      <td>548.160706</td>\n",
       "      <td>0.256773</td>\n",
       "      <td>0.270655</td>\n",
       "      <td>0.271703</td>\n",
       "    </tr>\n",
       "    <tr>\n",
       "      <th>4</th>\n",
       "      <td>CCCCCCC</td>\n",
       "      <td>7</td>\n",
       "      <td>542.108665</td>\n",
       "      <td>436.069227</td>\n",
       "      <td>28.817204</td>\n",
       "      <td>580.694835</td>\n",
       "      <td>481.023396</td>\n",
       "      <td>28.942357</td>\n",
       "      <td>0.263860</td>\n",
       "      <td>26.134945</td>\n",
       "      <td>603.228353</td>\n",
       "      <td>0.279282</td>\n",
       "      <td>27.055317</td>\n",
       "      <td>27.825535</td>\n",
       "      <td>599.697627</td>\n",
       "      <td>579.133667</td>\n",
       "      <td>0.250679</td>\n",
       "      <td>0.265501</td>\n",
       "      <td>0.263581</td>\n",
       "    </tr>\n",
       "    <tr>\n",
       "      <th>...</th>\n",
       "      <td>...</td>\n",
       "      <td>...</td>\n",
       "      <td>...</td>\n",
       "      <td>...</td>\n",
       "      <td>...</td>\n",
       "      <td>...</td>\n",
       "      <td>...</td>\n",
       "      <td>...</td>\n",
       "      <td>...</td>\n",
       "      <td>...</td>\n",
       "      <td>...</td>\n",
       "      <td>...</td>\n",
       "      <td>...</td>\n",
       "      <td>...</td>\n",
       "      <td>...</td>\n",
       "      <td>...</td>\n",
       "      <td>...</td>\n",
       "      <td>...</td>\n",
       "      <td>...</td>\n",
       "    </tr>\n",
       "    <tr>\n",
       "      <th>706</th>\n",
       "      <td>CCCCCCCCCCCCCCCCCCCCCCCCCCCCCCCCCCCCCCCCCCCCCC...</td>\n",
       "      <td>709</td>\n",
       "      <td>1620.601806</td>\n",
       "      <td>40397.128513</td>\n",
       "      <td>0.072090</td>\n",
       "      <td>927.248214</td>\n",
       "      <td>1309.219111</td>\n",
       "      <td>28.844809</td>\n",
       "      <td>0.217160</td>\n",
       "      <td>7.135363</td>\n",
       "      <td>851.054291</td>\n",
       "      <td>0.021651</td>\n",
       "      <td>-430.622660</td>\n",
       "      <td>31.132708</td>\n",
       "      <td>8899.800696</td>\n",
       "      <td>696.119629</td>\n",
       "      <td>0.109592</td>\n",
       "      <td>-2.893113</td>\n",
       "      <td>0.240020</td>\n",
       "    </tr>\n",
       "    <tr>\n",
       "      <th>707</th>\n",
       "      <td>CCCCCCCCCCCCCCCCCCCCCCCCCCCCCCCCCCCCCCCCCCCCCC...</td>\n",
       "      <td>710</td>\n",
       "      <td>1620.950085</td>\n",
       "      <td>40454.053098</td>\n",
       "      <td>0.072034</td>\n",
       "      <td>927.248214</td>\n",
       "      <td>1309.219111</td>\n",
       "      <td>28.844809</td>\n",
       "      <td>0.217160</td>\n",
       "      <td>7.135363</td>\n",
       "      <td>851.054291</td>\n",
       "      <td>0.021660</td>\n",
       "      <td>-431.266598</td>\n",
       "      <td>31.132708</td>\n",
       "      <td>8911.596251</td>\n",
       "      <td>696.119629</td>\n",
       "      <td>0.109592</td>\n",
       "      <td>-2.897580</td>\n",
       "      <td>0.240020</td>\n",
       "    </tr>\n",
       "    <tr>\n",
       "      <th>708</th>\n",
       "      <td>CCCCCCCCCCCCCCCCCCCCCCCCCCCCCCCCCCCCCCCCCCCCCC...</td>\n",
       "      <td>711</td>\n",
       "      <td>1621.297876</td>\n",
       "      <td>40510.977684</td>\n",
       "      <td>0.071979</td>\n",
       "      <td>927.248214</td>\n",
       "      <td>1309.219111</td>\n",
       "      <td>28.844809</td>\n",
       "      <td>0.217160</td>\n",
       "      <td>7.135363</td>\n",
       "      <td>851.054291</td>\n",
       "      <td>0.021669</td>\n",
       "      <td>-431.910448</td>\n",
       "      <td>31.132708</td>\n",
       "      <td>8923.392646</td>\n",
       "      <td>696.119629</td>\n",
       "      <td>0.109592</td>\n",
       "      <td>-2.902047</td>\n",
       "      <td>0.240020</td>\n",
       "    </tr>\n",
       "    <tr>\n",
       "      <th>709</th>\n",
       "      <td>CCCCCCCCCCCCCCCCCCCCCCCCCCCCCCCCCCCCCCCCCCCCCC...</td>\n",
       "      <td>712</td>\n",
       "      <td>1621.645179</td>\n",
       "      <td>40567.902270</td>\n",
       "      <td>0.071923</td>\n",
       "      <td>927.248214</td>\n",
       "      <td>1309.219111</td>\n",
       "      <td>28.844809</td>\n",
       "      <td>0.217160</td>\n",
       "      <td>7.135363</td>\n",
       "      <td>851.054291</td>\n",
       "      <td>0.021678</td>\n",
       "      <td>-432.554357</td>\n",
       "      <td>31.132708</td>\n",
       "      <td>8935.189881</td>\n",
       "      <td>696.119629</td>\n",
       "      <td>0.109592</td>\n",
       "      <td>-2.906514</td>\n",
       "      <td>0.240020</td>\n",
       "    </tr>\n",
       "    <tr>\n",
       "      <th>710</th>\n",
       "      <td>CCCCCCCCCCCCCCCCCCCCCCCCCCCCCCCCCCCCCCCCCCCCCC...</td>\n",
       "      <td>713</td>\n",
       "      <td>1621.991997</td>\n",
       "      <td>40624.826856</td>\n",
       "      <td>0.071868</td>\n",
       "      <td>927.248214</td>\n",
       "      <td>1309.219111</td>\n",
       "      <td>28.844809</td>\n",
       "      <td>0.217160</td>\n",
       "      <td>7.135363</td>\n",
       "      <td>851.054291</td>\n",
       "      <td>0.021687</td>\n",
       "      <td>-433.198295</td>\n",
       "      <td>31.132708</td>\n",
       "      <td>8946.985435</td>\n",
       "      <td>696.119629</td>\n",
       "      <td>0.109592</td>\n",
       "      <td>-2.910980</td>\n",
       "      <td>0.240020</td>\n",
       "    </tr>\n",
       "  </tbody>\n",
       "</table>\n",
       "<p>711 rows × 19 columns</p>\n",
       "</div>"
      ],
      "text/plain": [
       "                                                SMILES    C       Tc_lgc  \\\n",
       "0                                                  CCC    3   400.018859   \n",
       "1                                                 CCCC    4   443.865604   \n",
       "2                                                CCCCC    5   481.109268   \n",
       "3                                               CCCCCC    6   513.480783   \n",
       "4                                              CCCCCCC    7   542.108665   \n",
       "..                                                 ...  ...          ...   \n",
       "706  CCCCCCCCCCCCCCCCCCCCCCCCCCCCCCCCCCCCCCCCCCCCCC...  709  1620.601806   \n",
       "707  CCCCCCCCCCCCCCCCCCCCCCCCCCCCCCCCCCCCCCCCCCCCCC...  710  1620.950085   \n",
       "708  CCCCCCCCCCCCCCCCCCCCCCCCCCCCCCCCCCCCCCCCCCCCCC...  711  1621.297876   \n",
       "709  CCCCCCCCCCCCCCCCCCCCCCCCCCCCCCCCCCCCCCCCCCCCCC...  712  1621.645179   \n",
       "710  CCCCCCCCCCCCCCCCCCCCCCCCCCCCCCCCCCCCCCCCCCCCCC...  713  1621.991997   \n",
       "\n",
       "           Vc_lgc     Pc_lgc      Tc_svr       Vc_svr     Pc_svr    Zc_svr  \\\n",
       "0      208.370884  46.070082  505.993247   274.871612  42.518480  0.271541   \n",
       "1      265.295470  40.532517  521.415770   320.238944  38.636955  0.271484   \n",
       "2      322.220056  35.937513  539.693318   371.209761  35.006175  0.270189   \n",
       "3      379.144641  32.082689  559.663436   425.377778  31.811048  0.267634   \n",
       "4      436.069227  28.817204  580.694835   481.023396  28.942357  0.263860   \n",
       "..            ...        ...         ...          ...        ...       ...   \n",
       "706  40397.128513   0.072090  927.248214  1309.219111  28.844809  0.217160   \n",
       "707  40454.053098   0.072034  927.248214  1309.219111  28.844809  0.217160   \n",
       "708  40510.977684   0.071979  927.248214  1309.219111  28.844809  0.217160   \n",
       "709  40567.902270   0.071923  927.248214  1309.219111  28.844809  0.217160   \n",
       "710  40624.826856   0.071868  927.248214  1309.219111  28.844809  0.217160   \n",
       "\n",
       "        Pc_tre      Tc_tre    Zc_cal      Pc_ann     Pc_gpr       Tc_ann  \\\n",
       "0    39.298855  534.445176  0.289133   39.681400  42.568752   543.010072   \n",
       "1    35.595452  545.626890  0.291880   36.548090  38.814186   554.444322   \n",
       "2    31.717789  568.023510  0.289987   33.427030  35.328339   566.727043   \n",
       "3    28.536603  586.793419  0.285413   30.180322  31.095243   583.208767   \n",
       "4    26.134945  603.228353  0.279282   27.055317  27.825535   599.697627   \n",
       "..         ...         ...       ...         ...        ...          ...   \n",
       "706   7.135363  851.054291  0.021651 -430.622660  31.132708  8899.800696   \n",
       "707   7.135363  851.054291  0.021660 -431.266598  31.132708  8911.596251   \n",
       "708   7.135363  851.054291  0.021669 -431.910448  31.132708  8923.392646   \n",
       "709   7.135363  851.054291  0.021678 -432.554357  31.132708  8935.189881   \n",
       "710   7.135363  851.054291  0.021687 -433.198295  31.132708  8946.985435   \n",
       "\n",
       "         Tc_gpr    Zc_tre    Zc_ann    Zc_gpr  \n",
       "0    455.898895  0.263456  0.272593  0.273093  \n",
       "1    482.283234  0.262584  0.274280  0.279625  \n",
       "2    514.076660  0.260928  0.273350  0.279437  \n",
       "3    548.160706  0.256773  0.270655  0.271703  \n",
       "4    579.133667  0.250679  0.265501  0.263581  \n",
       "..          ...       ...       ...       ...  \n",
       "706  696.119629  0.109592 -2.893113  0.240020  \n",
       "707  696.119629  0.109592 -2.897580  0.240020  \n",
       "708  696.119629  0.109592 -2.902047  0.240020  \n",
       "709  696.119629  0.109592 -2.906514  0.240020  \n",
       "710  696.119629  0.109592 -2.910980  0.240020  \n",
       "\n",
       "[711 rows x 19 columns]"
      ]
     },
     "execution_count": 62,
     "metadata": {},
     "output_type": "execute_result"
    }
   ],
   "source": [
    "df_res"
   ]
  },
  {
   "cell_type": "code",
   "execution_count": 69,
   "id": "af3282c7",
   "metadata": {},
   "outputs": [],
   "source": [
    "df_res['Zc_bestml'] = (df_res['Pc_gpr'] * df_res['Vc_svr']/1000) / (0.083* df_res['Tc_svr'])"
   ]
  },
  {
   "cell_type": "code",
   "execution_count": 73,
   "id": "6d57b74e",
   "metadata": {},
   "outputs": [
    {
     "data": {
      "image/png": "[encoded data removed]",
      "text/plain": [
       "<Figure size 640x480 with 1 Axes>"
      ]
     },
     "metadata": {},
     "output_type": "display_data"
    }
   ],
   "source": [
    "plt.scatter(df_res_1['C'], df_res_1['Zc_cal'], s=2, c='black', marker='^',label='Linear GCM (calculated)')\n",
    "plt.scatter(df_res_1['C'], df_res_1['Zc_gpr'], s=2, c='orange', marker='o',label='GPR')\n",
    "plt.scatter(df_res_1['C'], df_res_1['Zc_tre'], s=2, c='green', marker='o',label='DART')\n",
    "plt.scatter(df_res_1['C'], df_res_1['Zc_svr'], s=2, c='blue', marker='o',label='SVR')\n",
    "plt.scatter(df_res_1['C'], df_res_1['Zc_ann'], s=2, c='red', marker='o',label='ANN')\n",
    "\n",
    "plt.xlabel('n-alkanes with increasing carbon number')\n",
    "plt.ylim(0, 0.3)\n",
    "plt.ylabel('Zc(predicted)')\n",
    "plt.legend()\n",
    "plt.xscale('log')\n",
    "plt.savefig('thesis/Zc_nk.pdf')\n",
    "\n",
    "plt.show()"
   ]
  },
  {
   "cell_type": "code",
   "execution_count": 63,
   "id": "f6e0b5a9",
   "metadata": {},
   "outputs": [],
   "source": [
    "df_res.to_excel('data/nklane_res.xlsx', index=False)"
   ]
  },
  {
   "cell_type": "code",
   "execution_count": null,
   "id": "f7491fdd",
   "metadata": {},
   "outputs": [],
   "source": []
  }
 ],
 "metadata": {
  "kernelspec": {
   "display_name": "Python [conda env:test] *",
   "language": "python",
   "name": "conda-env-test-py"
  },
  "language_info": {
   "codemirror_mode": {
    "name": "ipython",
    "version": 3
   },
   "file_extension": ".py",
   "mimetype": "text/x-python",
   "name": "python",
   "nbconvert_exporter": "python",
   "pygments_lexer": "ipython3",
   "version": "3.8.18"
  }
 },
 "nbformat": 4,
 "nbformat_minor": 5
}
