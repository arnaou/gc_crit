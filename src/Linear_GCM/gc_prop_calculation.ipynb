{
 "cells": [
  {
   "cell_type": "code",
   "execution_count": 1,
   "id": "11dfba27",
   "metadata": {},
   "outputs": [],
   "source": [
    "import autograd.numpy as np"
   ]
  },
  {
   "cell_type": "code",
   "execution_count": 2,
   "id": "7ca4b6da",
   "metadata": {},
   "outputs": [],
   "source": [
    "def lhs_cal(tag, Y):\n",
    "    if tag == 'FLVL':\n",
    "        a = 4.53\n",
    "        lhs = np.log(Y/a)\n",
    "    elif tag == 'Tm':\n",
    "        a = 198\n",
    "        lhs = np.exp(Y/a)\n",
    "    elif tag == 'Tc':\n",
    "        a = 250\n",
    "        lhs = np.exp(Y/a)\n",
    "    elif tag == 'Tb':\n",
    "        a = 240\n",
    "        lhs = np.exp(Y/a)\n",
    "    elif tag == 'Vc':\n",
    "        a = 20\n",
    "        lhs = Y - a\n",
    "    elif tag == 'Vm':\n",
    "        a = 0.01\n",
    "        lhs = Y - a\n",
    "    elif tag == 'Pc':\n",
    "        a = 0.1347\n",
    "        lhs = np.power((Y-0.0519),-0.5) - a\n",
    "    elif tag == 'Svb':\n",
    "        a = 80\n",
    "        lhs = Y - parameter\n",
    "    elif tag == 'Omega':\n",
    "        a = [0.9080, 0.1055, 1.0012]\n",
    "        lhs = np.power(np.exp(Y/a[0]), a[1]) - a[2]\n",
    "    elif tag == 'LogKow':\n",
    "        a = 0.5\n",
    "        lhs = Y - a\n",
    "    elif tag == 'Hv':\n",
    "        a = 10\n",
    "        lhs = Y - a\n",
    "    elif tag == 'Hvb':\n",
    "        a = 15\n",
    "        lhs = Y - a\n",
    "    elif tag == 'Hf':\n",
    "        a = 80\n",
    "        lhs = Y - a\n",
    "    elif tag == 'Hfus':\n",
    "        a = -2\n",
    "        lhs = Y - a\n",
    "    elif tag == 'Hild_Solub':\n",
    "        a = 21\n",
    "        lhs = Y - a\n",
    "    elif tag == 'Gf':\n",
    "        a = 8\n",
    "        lhs = Y - a\n",
    "    elif tag in {'Hans_Solub_D', 'Hans_Solub_H', 'Hans_Solub_P'}:\n",
    "        a = null\n",
    "        lhs = Y\n",
    "    return a, lhs"
   ]
  },
  {
   "cell_type": "code",
   "execution_count": 3,
   "id": "e7bf6de4",
   "metadata": {},
   "outputs": [],
   "source": [
    "def y_pred_cal(x, a, theta, const_fg, const_sg, tag):\n",
    "    if tag == 'FLVL':\n",
    "        y_pred = a * np.exp(const_fg + const_sg + np.matmul(x, theta))\n",
    "    elif tag in {'Tc', 'Tm', 'Tb'}:\n",
    "        y_pred = a * np.log(const_fg + const_sg + np.matmul(x, theta))\n",
    "    elif tag in {'Vc', 'Gf', 'Hf', 'Hfus', 'HV', 'Hvb', 'Svb', 'Hild_Solub', 'Vm', 'LogKow'}:\n",
    "        y_pred = (const_fg + const_sg + np.matmul(x, theta)) + a\n",
    "    elif tag == 'Pc':\n",
    "        y_pred = 1/((const_fg + const_sg + np.matmul(x, theta) + a)**2) + 0.0519\n",
    "    elif tag == {'Hans_Solub_D', 'Hans_Solub_H', 'Hans_Solub_P'}:\n",
    "        y_pred = const_fg + const_sg + np.matmul(x, theta)\n",
    "    elif tag == 'Omega':\n",
    "        y_pred = a[0] * np.log(np.sign(const_fg + const_sg + np.matmul(x, theta) + a[2]) * np.abs(const_fg + const_sg + np.matmul(x, theta) + a[2])**(1/a[1]))\n",
    "    return y_pred"
   ]
  }
 ],
 "metadata": {
  "kernelspec": {
   "display_name": "Python [conda env:test] *",
   "language": "python",
   "name": "conda-env-test-py"
  },
  "language_info": {
   "codemirror_mode": {
    "name": "ipython",
    "version": 3
   },
   "file_extension": ".py",
   "mimetype": "text/x-python",
   "name": "python",
   "nbconvert_exporter": "python",
   "pygments_lexer": "ipython3",
   "version": "3.8.18"
  }
 },
 "nbformat": 4,
 "nbformat_minor": 5
}
