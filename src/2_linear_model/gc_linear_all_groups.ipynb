{
 "cells": [
  {
   "cell_type": "code",
   "execution_count": 1,
   "id": "initial_id",
   "metadata": {
    "ExecuteTime": {
     "end_time": "2023-12-03T16:04:46.379683Z",
     "start_time": "2023-12-03T16:04:46.315619900Z"
    }
   },
   "outputs": [],
   "source": [
    "import pandas as pd\n",
    "# import numpy as np\n",
    "from sklearn.metrics import mean_absolute_error\n",
    "import matplotlib.pyplot as plt\n",
    "from scipy import stats\n",
    "from scipy.stats import t\n",
    "from scipy.optimize import minimize, least_squares\n",
    "import math\n",
    "import autograd.numpy as np\n",
    "from autograd import grad, jacobian\n",
    "from gc_aux import r2_score\n",
    "from gc_prop_calculation import lhs_cal, y_pred_cal"
   ]
  },
  {
   "cell_type": "code",
   "execution_count": 74,
   "id": "26ff0bbe",
   "metadata": {},
   "outputs": [],
   "source": [
    "df1 = pd.read_excel('data/excel_sp/Train_Tc.xlsx')\n",
    "df2 = pd.read_excel('data/excel_sp/Test_Tc.xlsx')"
   ]
  },
  {
   "cell_type": "code",
   "execution_count": 75,
   "id": "4364d433",
   "metadata": {},
   "outputs": [],
   "source": [
    "df_concatenated = pd.concat([df1, df2], ignore_index=True)  \n",
    "\n",
    "df_concatenated_filtered = df_concatenated.loc[:, (df_concatenated != 0).any(axis=0)]\n",
    "\n",
    "df1_aft = df_concatenated_filtered.iloc[:len(df1)]  \n",
    "df2_aft = df_concatenated_filtered.iloc[len(df1):]  "
   ]
  },
  {
   "cell_type": "code",
   "execution_count": 76,
   "id": "b0735ea7734d7fc4",
   "metadata": {
    "ExecuteTime": {
     "end_time": "2023-12-03T16:04:49.423163400Z",
     "start_time": "2023-12-03T16:04:46.336587Z"
    }
   },
   "outputs": [],
   "source": [
    "# # load the data\n",
    "# df_raw = pd.read_excel('data/new_excels/Tc.xlsx')\n",
    "# # extract target values\n",
    "# df_target = df_raw['Const_Value']\n",
    "# # extract all groups\n",
    "# df_grp = df_raw.loc[:,'CH3':]\n",
    "# # df_grp = df_raw[df_raw.columns[2:]]\n",
    "# # extract first order groups and non-zero index\n",
    "# df_fog = df_grp.iloc[:,:220]\n",
    "# idx_fog = df_fog.sum(axis=0).to_numpy().nonzero()[0]\n",
    "# nr_fog = len(idx_fog)\n",
    "# # extract second order groups and non-zero index\n",
    "# df_sog= df_grp.iloc[:,220:220+130]\n",
    "# idx_sog = df_sog.sum(axis=0).to_numpy().nonzero()[0]\n",
    "# nr_sog = len(idx_sog)\n",
    "# # extract third order groups and non-zero index\n",
    "# df_tog = df_grp.iloc[:,220+130:220+130+74]\n",
    "# idx_tog = df_tog.sum(axis=0).to_numpy().nonzero()[0]\n",
    "# nr_tog = len(idx_tog)"
   ]
  },
  {
   "cell_type": "code",
   "execution_count": 91,
   "id": "319d5e79",
   "metadata": {},
   "outputs": [],
   "source": [
    "df_raw = df1_aft\n",
    "# extract target values\n",
    "df_target = df_raw['Const_Value']\n",
    "# extract all groups\n",
    "df_grp = df_raw.loc[:,'CH3':]"
   ]
  },
  {
   "cell_type": "code",
   "execution_count": 92,
   "id": "34951560",
   "metadata": {},
   "outputs": [],
   "source": [
    "prop_tag = 'Tc'"
   ]
  },
  {
   "cell_type": "code",
   "execution_count": 93,
   "id": "c4cd8af4f1d86a5f",
   "metadata": {
    "ExecuteTime": {
     "end_time": "2023-12-03T16:04:49.440906400Z",
     "start_time": "2023-12-03T16:04:49.430181500Z"
    }
   },
   "outputs": [],
   "source": [
    "# extract G\n",
    "G = df_grp.to_numpy()\n",
    "# extract y\n",
    "y = df_target.to_numpy() #*1000"
   ]
  },
  {
   "cell_type": "code",
   "execution_count": 94,
   "id": "681a5cc7d3f204e8",
   "metadata": {
    "ExecuteTime": {
     "end_time": "2023-12-03T16:04:49.533732700Z",
     "start_time": "2023-12-03T16:04:49.440906400Z"
    }
   },
   "outputs": [],
   "source": [
    "# define universal constant and calculate lhs\n",
    "uni_const, lhs = lhs_cal(prop_tag, y)\n",
    "\n",
    "# initialization of theta\n",
    "theta_ini = theta = np.matmul(np.matmul(np.linalg.pinv(np.matmul(np.transpose(G),G)),np.transpose(G)),lhs)"
   ]
  },
  {
   "cell_type": "code",
   "execution_count": 95,
   "id": "be0c4ff3",
   "metadata": {},
   "outputs": [],
   "source": [
    "tog_0_r2 = 0\n",
    "tog_0_mae = 0\n",
    "tog_0_are = 0\n",
    "tog_0_mre =0"
   ]
  },
  {
   "cell_type": "code",
   "execution_count": 96,
   "id": "174e4687a6bc5626",
   "metadata": {
    "ExecuteTime": {
     "end_time": "2023-12-03T16:04:49.723374800Z",
     "start_time": "2023-12-03T16:04:49.536743Z"
    }
   },
   "outputs": [
    {
     "name": "stdout",
     "output_type": "stream",
     "text": [
      "r2 of tog:0.9315836548402475\n",
      "are of tog:2.8622014440615624\n",
      "mre of tog:1.7552069157750192\n"
     ]
    },
    {
     "data": {
      "image/png": "[encoded data removed]",
      "text/plain": [
       "<Figure size 640x480 with 1 Axes>"
      ]
     },
     "metadata": {},
     "output_type": "display_data"
    }
   ],
   "source": [
    "# prediction on each level\n",
    "# y0_fog = uni_const * np.exp(np.matmul(G[:,:nr_fog],theta_ini[:nr_fog]))\n",
    "# y0_sog = uni_const * np.exp(np.matmul(G[:,:nr_fog+nr_sog],theta_ini[:nr_fog+nr_sog]))\n",
    "\n",
    "y0_tog = y_pred_cal(G, uni_const, theta_ini, 0, 0, prop_tag)\n",
    "\n",
    "# calculate mae and r2 for each level\n",
    "tog_0_r2 = r2_score(y,y0_tog)\n",
    "tog_0_mae = mean_absolute_error(y,y0_tog)\n",
    "tog_0_are = np.average(np.abs((y - y0_tog) / y))*100\n",
    "tog_0_mre = np.median(np.abs((y - y0_tog) / y))*100\n",
    "# printing\n",
    "print('r2 of tog:' + str(tog_0_r2))\n",
    "print('are of tog:' + str(tog_0_are))\n",
    "print('mre of tog:' + str(tog_0_mre))\n",
    "\n",
    "# plot\n",
    "plt.scatter(y,y0_tog)\n",
    "plt.plot([0,10],[0,10])\n",
    "# plt.savefig('Parity Plot of y0_tog and y_true for '+prop_tag+'.pdf')\n",
    "plt.show()"
   ]
  },
  {
   "cell_type": "code",
   "execution_count": 97,
   "id": "48c5cc1ee27c3472",
   "metadata": {
    "ExecuteTime": {
     "end_time": "2023-12-03T16:07:25.196750300Z",
     "start_time": "2023-12-03T16:04:49.723374800Z"
    }
   },
   "outputs": [
    {
     "name": "stderr",
     "output_type": "stream",
     "text": [
      "D:\\Users\\49332\\anaconda3\\envs\\test\\lib\\site-packages\\autograd\\tracer.py:48: RuntimeWarning: invalid value encountered in log\n",
      "  return f_raw(*args, **kwargs)\n",
      "C:\\Users\\49332\\AppData\\Local\\Temp\\ipykernel_27656\\3652196155.py:19: RuntimeWarning: Maximum number of function evaluations has been exceeded.\n",
      "  result = minimize(fog_sse_lfvl, fog_ini, args=(G, y), jac=None, method='Nelder-Mead',\n"
     ]
    }
   ],
   "source": [
    "# define objective function\n",
    "def fog_sse_lfvl(fog_params, G, y):\n",
    "    \"\"\"\n",
    "    Funtion to calculate the sum of squared errors of the gc model using first order groups\n",
    "    :param fog_params: group contributions \n",
    "    :param G: group occurrence\n",
    "    :param y: target values\n",
    "    :return: \n",
    "    \"\"\"\n",
    "    y_pred = y_pred_cal(G, fog_params[0], fog_params[1:], 0, 0, prop_tag)    \n",
    "#     y_pred = y_pred_cal(G, [fog_params[0], fog_params[1], fog_params[2]], fog_params[3:], 0, 0, prop_tag)  \n",
    "\n",
    "    errors = y-y_pred\n",
    "    sse = np.sum(errors ** 2)\n",
    "    return sse\n",
    "# define initial params\n",
    "fog_ini = np.append(uni_const,theta_ini)\n",
    "# perform optimization Nelder Mead then L-BFGS-B\n",
    "result = minimize(fog_sse_lfvl, fog_ini, args=(G, y), jac=None, method='Nelder-Mead',\n",
    "                  options={'fatol': 1e-6, 'disp': True, 'maxiter': 300000, 'maxfev': 300000})\n",
    "# perform optimization\n",
    "result = minimize(fog_sse_lfvl, result.x, args=(G, y), jac=None, method='L-BFGS-B',\n",
    "                  options={'ftol': 1e-6, 'disp': True, 'maxiter': 300000, 'maxfun': 300000})\n",
    "result\n",
    "fog_simp = result.x"
   ]
  },
  {
   "cell_type": "code",
   "execution_count": 98,
   "id": "113239227146f4c5",
   "metadata": {
    "ExecuteTime": {
     "end_time": "2023-12-03T16:11:00.234166Z",
     "start_time": "2023-12-03T16:11:00.075027400Z"
    }
   },
   "outputs": [
    {
     "name": "stdout",
     "output_type": "stream",
     "text": [
      "mae of tog:14.56025705702479\n",
      "r2 of tog:0.9434006631890957\n",
      "are of tog:2.3252836154567\n"
     ]
    },
    {
     "data": {
      "image/png": "[encoded data removed]",
      "text/plain": [
       "<Figure size 640x480 with 1 Axes>"
      ]
     },
     "metadata": {},
     "output_type": "display_data"
    }
   ],
   "source": [
    "# # prediction on each level\n",
    "y_simp_tog = y_pred_cal(G, fog_simp[0], fog_simp[1:], 0, 0, prop_tag)\n",
    "\n",
    "# y_simp_tog = y_pred_cal(G, [fog_simp[0], fog_simp[1], fog_simp[2]], fog_simp[3:], 0, 0, prop_tag)\n",
    "\n",
    "# y_simp_sog = uni_const * np.exp(G_sog,theta_ini[:nr_fog+nr_sog])\n",
    "# y_simp_tog = uni_const * np.exp(np.matmul(G,theta_ini))\n",
    "# calculate mae and r2 for each level\n",
    "tog_simp_r2 = r2_score(y,y_simp_tog)\n",
    "tog_simp_mae = mean_absolute_error(y,y_simp_tog)\n",
    "tog_simp_are = np.average(np.abs((y - y_simp_tog) / y))*100\n",
    "tog_simp_mre = np.median(np.abs((y - y_simp_tog) / y))*100\n",
    "# printing\n",
    "print('mae of tog:' + str(tog_simp_mae))\n",
    "print('r2 of tog:' + str(tog_simp_r2))\n",
    "\n",
    "print('are of tog:' + str(tog_simp_are))\n",
    "\n",
    "# plot\n",
    "plt.scatter(y,y_simp_tog)\n",
    "plt.plot([200,1200],[200,1200])\n",
    "# plt.savefig('Parity Plot of y_simp_tog and y_true for '+prop_tag+'.pdf')\n",
    "plt.show()"
   ]
  },
  {
   "cell_type": "code",
   "execution_count": 99,
   "id": "7aea3a956633fff",
   "metadata": {
    "ExecuteTime": {
     "end_time": "2023-12-03T16:30:53.799134500Z",
     "start_time": "2023-12-03T16:30:53.375049Z"
    }
   },
   "outputs": [
    {
     "name": "stdout",
     "output_type": "stream",
     "text": [
      "`ftol` termination condition is satisfied.\n",
      "Function evaluations 1794, initial cost 5.3892e+05, final cost 5.3823e+05, first-order optimality 1.51e+00.\n"
     ]
    }
   ],
   "source": [
    "# define the functions\n",
    "def fog_residuals(fog_params, G, y):\n",
    "    \"\"\"\n",
    "    \n",
    "    :param y_exp: \n",
    "    :param y_pred: \n",
    "    :return: \n",
    "    \"\"\"\n",
    "    y_pred = y_pred_cal(G, fog_params[0], fog_params[1:], 0, 0, prop_tag)\n",
    "#     y_pred = y_pred_cal(G, [fog_params[0], fog_params[1], fog_params[2]], fog_params[3:], 0, 0, prop_tag)\n",
    "    \n",
    "    errors = y-y_pred\n",
    "    return errors\n",
    "\n",
    "result_lm_fog = least_squares(fog_residuals, fog_simp, args=(G, y), method='lm', verbose=2)\n",
    "fog_lm = result_lm_fog.x"
   ]
  },
  {
   "cell_type": "code",
   "execution_count": 100,
   "id": "b4ef860974eda812",
   "metadata": {
    "ExecuteTime": {
     "end_time": "2023-12-03T16:30:54.700740200Z",
     "start_time": "2023-12-03T16:30:54.542098700Z"
    }
   },
   "outputs": [
    {
     "name": "stdout",
     "output_type": "stream",
     "text": [
      "mae of tog:14.58716778691674\n",
      "r2 of tog:0.9434713572603138\n",
      "are of tog:2.3321390029068336\n"
     ]
    },
    {
     "data": {
      "image/png": "[encoded data removed]",
      "text/plain": [
       "<Figure size 640x480 with 1 Axes>"
      ]
     },
     "metadata": {},
     "output_type": "display_data"
    }
   ],
   "source": [
    "# prediction on each level\n",
    "y_lm_tog = y_pred_cal(G, fog_lm[0], fog_lm[1:], 0, 0, prop_tag)\n",
    "\n",
    "# y_lm_fog = y_pred_cal(G_fog, [fog_lm[0],fog_lm[1],fog_lm[2]], fog_lm[3:], 0, 0, prop_tag)\n",
    "\n",
    "\n",
    "# calculate mae and r2 for each level\n",
    "tog_lm_r2 = r2_score(y,y_lm_tog)\n",
    "tog_lm_mae = mean_absolute_error(y,y_lm_tog)\n",
    "tog_lm_are = np.average(np.abs((y - y_lm_tog) / y))*100\n",
    "# printing\n",
    "\n",
    "print('mae of tog:' + str(tog_lm_mae))\n",
    "print('r2 of tog:' + str(tog_lm_r2))\n",
    "print('are of tog:' + str(tog_lm_are))\n",
    "\n",
    "# plot\n",
    "plt.scatter(y,y_lm_tog,s=20)\n",
    "plt.plot([0, 2.5], [0, 2.5], color='black', linestyle='--',linewidth=0.8)\n",
    "plt.xlabel('True Values')\n",
    "plt.ylabel('Predicted Values')\n",
    "plt.tight_layout()\n",
    "\n",
    "# plt.savefig('Parity Plot of y_lm_tog and y_true for '+prop_tag+'.pdf')\n",
    "plt.show()"
   ]
  },
  {
   "cell_type": "code",
   "execution_count": 101,
   "id": "caf82452981a60d4",
   "metadata": {},
   "outputs": [],
   "source": [
    "df_res = pd.DataFrame(columns=['Method', 'R2', 'MAE','ARE','MRE'])\n",
    "\n",
    "df_res.at[0,'Method'] = 'Initial Guess'\n",
    "df_res.at[0, 'R2'] = tog_0_r2\n",
    "df_res.at[0, 'MAE'] = tog_0_mae\n",
    "df_res.at[0, 'ARE'] = tog_0_are\n",
    "df_res.at[0, 'MRE'] = tog_0_mre\n",
    "df_res.at[1,'Method'] = 'Simplex Method'\n",
    "df_res.at[1, 'R2'] = tog_simp_r2\n",
    "df_res.at[1, 'MAE'] = tog_simp_mae\n",
    "df_res.at[1, 'ARE'] = tog_simp_are\n",
    "df_res.at[2,'Method'] = 'LM Method'\n",
    "df_res.at[2, 'R2'] = tog_lm_r2\n",
    "df_res.at[2, 'MAE'] = tog_lm_mae\n",
    "df_res.at[2, 'ARE'] = tog_lm_are\n",
    "\n",
    "with pd.ExcelWriter(prop_tag+'_Results.xlsx') as writer:\n",
    "    df_res.to_excel(writer, sheet_name='Performance Overview', index=False)"
   ]
  },
  {
   "cell_type": "code",
   "execution_count": 102,
   "id": "e1fda4f3",
   "metadata": {},
   "outputs": [],
   "source": [
    "theta_lm = fog_lm\n",
    "df_theta = pd.DataFrame(theta_lm)\n",
    "\n",
    "df_theta.to_excel('data/theta_'+prop_tag+'.xlsx', index=False)"
   ]
  }
 ],
 "metadata": {
  "kernelspec": {
   "display_name": "Python [conda env:test] *",
   "language": "python",
   "name": "conda-env-test-py"
  },
  "language_info": {
   "codemirror_mode": {
    "name": "ipython",
    "version": 3
   },
   "file_extension": ".py",
   "mimetype": "text/x-python",
   "name": "python",
   "nbconvert_exporter": "python",
   "pygments_lexer": "ipython3",
   "version": "3.8.18"
  }
 },
 "nbformat": 4,
 "nbformat_minor": 5
}
