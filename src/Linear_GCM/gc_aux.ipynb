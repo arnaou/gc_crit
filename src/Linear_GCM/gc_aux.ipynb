{
 "cells": [
  {
   "cell_type": "code",
   "execution_count": 6,
   "id": "4170fb87",
   "metadata": {},
   "outputs": [],
   "source": [
    "import pandas as pd\n",
    "import autograd.numpy as np\n",
    "import matplotlib.pyplot as plt\n",
    "from sklearn.model_selection import learning_curve\n",
    "from skopt.plots import plot_convergence, plot_objective, plot_evaluations\n",
    "from sklearn.metrics import mean_absolute_error, mean_squared_error"
   ]
  },
  {
   "cell_type": "code",
   "execution_count": 2,
   "id": "13426a65",
   "metadata": {},
   "outputs": [],
   "source": [
    "def r2_score(y_true, y_pred):\n",
    "    corrcoef_matrix = np.corrcoef(y_true, y_pred)\n",
    "    corrcoef = corrcoef_matrix[0, 1]\n",
    "    return corrcoef**2"
   ]
  },
  {
   "cell_type": "code",
   "execution_count": 3,
   "id": "e97a4943",
   "metadata": {},
   "outputs": [],
   "source": [
    "def ProcessData(df: pd.DataFrame) -> pd.DataFrame:\n",
    "    \n",
    "    df_res = df.copy()\n",
    "    \n",
    "    df_res = df_res.astype({col: 'str' for col in df_res.columns if df_res[col].dtype != 'object'})\n",
    "    \n",
    "    a_loc = df_res.columns.get_loc('SMILES')\n",
    "    b_loc = df_res.columns.get_loc('Const_Value')\n",
    "    c_loc = df_res.columns.get_loc('CH3')\n",
    "    end_loc = len(df_res.columns)\n",
    "    \n",
    "    df_res = df_res.iloc[:, list(range(a_loc, a_loc+1)) + list(range(b_loc, b_loc+1)) + list(range(c_loc, end_loc))]\n",
    "    df_res = df_res[df_res['CH3'] != 'No']\n",
    "\n",
    "    #remove all the rows(compounds) where their const values are null\n",
    "    df_res = df_res.loc[:, (df_res != 0).any(axis=0)]\n",
    "    \n",
    "    df_res['Const_Value'] = df_res['Const_Value'].str.replace(',', '.', regex=True).astype(float)\n",
    "\n",
    "    df_values = df_res.loc[:,'Const_Value':]\n",
    "    for column in df_values.columns:\n",
    "        df_res[column] = pd.to_numeric(df_res[column], errors='coerce')\n",
    "        \n",
    "    return df_res"
   ]
  },
  {
   "cell_type": "code",
   "execution_count": 4,
   "id": "a51f1387",
   "metadata": {},
   "outputs": [],
   "source": [
    "def RemoveNullGroups(df: pd.DataFrame) -> pd.DataFrame:\n",
    "    \n",
    "    df.loc['sum'] = df.sum()\n",
    "    df = df.loc[:, df.loc['sum'] != 0]\n",
    "    \n",
    "    df = df.drop('sum')\n",
    "    \n",
    "    return df"
   ]
  }
 ],
 "metadata": {
  "kernelspec": {
   "display_name": "Python [conda env:test] *",
   "language": "python",
   "name": "conda-env-test-py"
  },
  "language_info": {
   "codemirror_mode": {
    "name": "ipython",
    "version": 3
   },
   "file_extension": ".py",
   "mimetype": "text/x-python",
   "name": "python",
   "nbconvert_exporter": "python",
   "pygments_lexer": "ipython3",
   "version": "3.8.18"
  }
 },
 "nbformat": 4,
 "nbformat_minor": 5
}
